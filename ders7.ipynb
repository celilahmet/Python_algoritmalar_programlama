{
  "nbformat": 4,
  "nbformat_minor": 0,
  "metadata": {
    "colab": {
      "provenance": []
    },
    "kernelspec": {
      "name": "python3",
      "display_name": "Python 3"
    },
    "language_info": {
      "name": "python"
    }
  },
  "cells": [
    {
      "cell_type": "code",
      "source": [
        "mil = float(input(\"KM'ye çevirilecek Mil bilgisini girin\"))\n",
        "kilometre = mil * 1.60934\n",
        "print(kilometre)"
      ],
      "metadata": {
        "colab": {
          "base_uri": "https://localhost:8080/"
        },
        "id": "uahdm4Whbrti",
        "outputId": "49c58cca-d8ac-4ca4-9db0-0bd54d066ceb"
      },
      "execution_count": 4,
      "outputs": [
        {
          "output_type": "stream",
          "name": "stdout",
          "text": [
            "KM'ye çevirilecek Mil bilgisini girin5\n",
            "8.0467\n"
          ]
        }
      ]
    },
    {
      "cell_type": "code",
      "source": [
        "\n",
        "a = 10\n",
        "if a > 10: # True - False\n",
        "  a = a+1\n",
        "print(a)\n",
        "\n"
      ],
      "metadata": {
        "colab": {
          "base_uri": "https://localhost:8080/"
        },
        "id": "Zxb_95AVbz5y",
        "outputId": "bf7117b0-2e9e-422d-c751-8959b552f7f6"
      },
      "execution_count": 3,
      "outputs": [
        {
          "output_type": "stream",
          "name": "stdout",
          "text": [
            "10\n"
          ]
        }
      ]
    },
    {
      "cell_type": "code",
      "execution_count": 1,
      "metadata": {
        "colab": {
          "base_uri": "https://localhost:8080/"
        },
        "id": "tHMzf2x1aSps",
        "outputId": "be874d36-33c2-44b8-9be3-4d4318b3ae3d"
      },
      "outputs": [
        {
          "output_type": "stream",
          "name": "stdout",
          "text": [
            "1\n",
            "2\n",
            "3\n",
            "4\n",
            "5\n",
            "6\n",
            "7\n",
            "8\n",
            "9\n",
            "10\n"
          ]
        }
      ],
      "source": [
        "\n",
        "for degisken in range(1, 11):\n",
        "  print(degisken)\n",
        ""
      ]
    },
    {
      "cell_type": "code",
      "source": [
        "sayi = int(input(\"4 Basamaklı sayı bilgisi giriniz\"))\n",
        "\n",
        "binler = sayi // 1000\n",
        "yuzler = (sayi // 100) % 10\n",
        "onlar = (sayi // 10) % 10\n",
        "birler = sayi % 10\n",
        "\n",
        "print(\"Sayının Rakamlar: \", binler, yuzler, onlar, birler)\n",
        "\n",
        "yeni_sayi = yuzler * 1000 + binler * 100 + onlar * 10 + birler\n",
        "\n",
        "print(\"Yeni Sayı: \", yeni_sayi)\n",
        "\n",
        "print(\"Girilen Sayı: \", sayi)\n",
        ""
      ],
      "metadata": {
        "colab": {
          "base_uri": "https://localhost:8080/"
        },
        "id": "xErPNfiiikei",
        "outputId": "1266ebfe-abcd-4738-e690-ebe7e659ac06"
      },
      "execution_count": 6,
      "outputs": [
        {
          "output_type": "stream",
          "name": "stdout",
          "text": [
            "4 Basamaklı sayı bilgisi giriniz1234\n",
            "Sayının Rakamlar:  1 2 3 4\n",
            "Yeni Sayı:  2134\n",
            "Girilen Sayı:  1234\n"
          ]
        }
      ]
    },
    {
      "cell_type": "code",
      "source": [
        "\n",
        "metin = \"Python\"\n",
        "\n",
        "print(\"Metnin uzunluğu \", len(metin))\n",
        "\n",
        "print(\"Büyük harf dönüşümü \", metin.upper())\n",
        "\n",
        "print(\"Küçük harf dönüşümü \", metin.lower())"
      ],
      "metadata": {
        "colab": {
          "base_uri": "https://localhost:8080/"
        },
        "id": "ZDTBkH3tjPnr",
        "outputId": "e8e70e8f-6182-4e5a-ca7f-e12db78702fe"
      },
      "execution_count": 7,
      "outputs": [
        {
          "output_type": "stream",
          "name": "stdout",
          "text": [
            "Metnin uzunluğu  6\n",
            "Büyük harf dönüşümü  PYTHON\n",
            "Küçük harf dönüşümü  python\n"
          ]
        }
      ]
    },
    {
      "cell_type": "code",
      "source": [
        "\n",
        "a = 4\n",
        "b = 1\n",
        "\n",
        "if a > b:\n",
        "  print(a)\n",
        "else:\n",
        "  print(b)\n",
        ""
      ],
      "metadata": {
        "colab": {
          "base_uri": "https://localhost:8080/"
        },
        "id": "3NB77HQOkBJq",
        "outputId": "7b6248df-53a5-4c53-acd2-72cdcdb19344"
      },
      "execution_count": 10,
      "outputs": [
        {
          "output_type": "stream",
          "name": "stdout",
          "text": [
            "4\n"
          ]
        }
      ]
    },
    {
      "cell_type": "code",
      "source": [
        "a = 5\n",
        "b = 4\n",
        "c = 0\n",
        "\n",
        "if a>0 and b>0:\n",
        "  c = a + b\n",
        "  c = a * a + c\n",
        "print(c)"
      ],
      "metadata": {
        "colab": {
          "base_uri": "https://localhost:8080/"
        },
        "id": "kStIKzdykfv_",
        "outputId": "d3efa265-f142-4f31-f517-518c59b9df5c"
      },
      "execution_count": 13,
      "outputs": [
        {
          "output_type": "stream",
          "name": "stdout",
          "text": [
            "34\n"
          ]
        }
      ]
    },
    {
      "cell_type": "code",
      "source": [
        "\n",
        "a = 5\n",
        "b = 4\n",
        "c = 4\n",
        "\n",
        "if a>0 and b<0:\n",
        "  c = a * b + b\n",
        "print(c)\n",
        ""
      ],
      "metadata": {
        "colab": {
          "base_uri": "https://localhost:8080/"
        },
        "id": "wjn6Ohe-laUP",
        "outputId": "e8088c9f-593c-4a04-893e-6abdd8b38301"
      },
      "execution_count": 14,
      "outputs": [
        {
          "output_type": "stream",
          "name": "stdout",
          "text": [
            "4\n"
          ]
        }
      ]
    },
    {
      "cell_type": "code",
      "source": [
        "\n",
        "a = 4\n",
        "b = 1\n",
        "c = 9\n",
        "sonuc = 0\n",
        "\n",
        "if a>0:\n",
        "  sonuc += 1\n",
        "  sonuc = a * c - b\n",
        "  print(sonuc)\n",
        "else:\n",
        "  sonuc -= 1\n",
        "  sonuc = a/c + b\n",
        "  print(sonuc)"
      ],
      "metadata": {
        "colab": {
          "base_uri": "https://localhost:8080/"
        },
        "id": "wWBWfpfylcvO",
        "outputId": "b69a7202-ef59-4454-e23d-b6aa890c6e8f"
      },
      "execution_count": 15,
      "outputs": [
        {
          "output_type": "stream",
          "name": "stdout",
          "text": [
            "35\n"
          ]
        }
      ]
    },
    {
      "cell_type": "code",
      "source": [
        "\n",
        "degisken = 0\n",
        "sonuc = 0\n",
        "\n",
        "if degisken == 1:\n",
        "  sonuc += 1\n",
        "  print(sonuc)\n",
        "elif degisken == 2:\n",
        "  sonuc += 2\n",
        "  print(sonuc)\n",
        "elif degisken == 3:\n",
        "  sonuc += 3\n",
        "  print(sonuc)\n",
        "else:\n",
        "  sonuc = 0\n",
        "  print(sonuc)"
      ],
      "metadata": {
        "colab": {
          "base_uri": "https://localhost:8080/"
        },
        "id": "5BcgstosmGRS",
        "outputId": "043bf1b7-e896-463c-e243-bf81182c2d04"
      },
      "execution_count": 16,
      "outputs": [
        {
          "output_type": "stream",
          "name": "stdout",
          "text": [
            "0\n"
          ]
        }
      ]
    },
    {
      "cell_type": "code",
      "source": [
        "# 7.4. Python Programlama Dili Üzerinde Döngü Yapıları\n",
        "\n",
        "for i in [1, 2, 3, 4, 5, 6, 7, 8, 9, 10]:\n",
        "  print(i)\n"
      ],
      "metadata": {
        "colab": {
          "base_uri": "https://localhost:8080/"
        },
        "id": "S4naaIxlmbwx",
        "outputId": "e962a8f8-e810-4dc5-db07-31c38ed7a166"
      },
      "execution_count": 17,
      "outputs": [
        {
          "output_type": "stream",
          "name": "stdout",
          "text": [
            "1\n",
            "2\n",
            "3\n",
            "4\n",
            "5\n",
            "6\n",
            "7\n",
            "8\n",
            "9\n",
            "10\n"
          ]
        }
      ]
    },
    {
      "cell_type": "code",
      "source": [
        "for i in range(0, 11):\n",
        "  print(i)"
      ],
      "metadata": {
        "colab": {
          "base_uri": "https://localhost:8080/"
        },
        "id": "liABp-mCm4Al",
        "outputId": "f5d53e2e-d18c-4736-aa44-0a3ab462be39"
      },
      "execution_count": 19,
      "outputs": [
        {
          "output_type": "stream",
          "name": "stdout",
          "text": [
            "0\n",
            "1\n",
            "2\n",
            "3\n",
            "4\n",
            "5\n",
            "6\n",
            "7\n",
            "8\n",
            "9\n",
            "10\n"
          ]
        }
      ]
    },
    {
      "cell_type": "code",
      "source": [
        "\n",
        "for i in range(1, 11, 3):\n",
        "  print(i)"
      ],
      "metadata": {
        "colab": {
          "base_uri": "https://localhost:8080/"
        },
        "id": "CsszHDoCnT9a",
        "outputId": "bb71b1d9-3e48-46e2-cd88-2f9fa6864daf"
      },
      "execution_count": 20,
      "outputs": [
        {
          "output_type": "stream",
          "name": "stdout",
          "text": [
            "1\n",
            "4\n",
            "7\n",
            "10\n"
          ]
        }
      ]
    },
    {
      "cell_type": "markdown",
      "source": [
        "BURADAKİ SON RAKAM ARTIŞ MİKTARINI GÖSTERMEKTEDİR\n"
      ],
      "metadata": {
        "id": "20M2HFg4naLA"
      }
    },
    {
      "cell_type": "code",
      "source": [
        "\n",
        "for i in range(3, 11, 3):\n",
        "  print(i)\n",
        ""
      ],
      "metadata": {
        "colab": {
          "base_uri": "https://localhost:8080/"
        },
        "id": "X63EIRIBneXo",
        "outputId": "5fb14aa0-2d37-4f20-fc81-a75f319a570e"
      },
      "execution_count": 21,
      "outputs": [
        {
          "output_type": "stream",
          "name": "stdout",
          "text": [
            "3\n",
            "6\n",
            "9\n"
          ]
        }
      ]
    },
    {
      "cell_type": "code",
      "source": [
        "\n",
        "for sayi in range(1, 11):\n",
        "  if sayi == 3:\n",
        "    continue #SAYIYA GELDİĞİ ZAMAN ATLAMA SAĞLAYAN BİR YAPIDIR\n",
        "  if sayi == 7:\n",
        "    break #SAYIYA GELDİĞİ ZAMAN İŞLEMİ SONLANDIRIR\n",
        "  print(sayi)"
      ],
      "metadata": {
        "colab": {
          "base_uri": "https://localhost:8080/"
        },
        "id": "OKWEPaPKnkFR",
        "outputId": "bb2d1dcb-37cc-40e9-da18-5aeb26d53a99"
      },
      "execution_count": 23,
      "outputs": [
        {
          "output_type": "stream",
          "name": "stdout",
          "text": [
            "1\n",
            "2\n",
            "4\n",
            "5\n",
            "6\n"
          ]
        }
      ]
    },
    {
      "cell_type": "code",
      "source": [
        "\n",
        "sayi = 0\n",
        "toplam = 0\n",
        "\n",
        "while sayi < 99:\n",
        "  print(sayi)\n",
        "  toplam += sayi # toplam = toplam + sayi\n",
        "  sayi += 1  # sayi = sayi + 1\n",
        "print(\"Sayilarin Toplami: \", toplam)"
      ],
      "metadata": {
        "colab": {
          "base_uri": "https://localhost:8080/"
        },
        "id": "rYLHW69soM31",
        "outputId": "065dd191-6fb4-4459-f142-9a4858ec9635"
      },
      "execution_count": 24,
      "outputs": [
        {
          "output_type": "stream",
          "name": "stdout",
          "text": [
            "0\n",
            "1\n",
            "2\n",
            "3\n",
            "4\n",
            "5\n",
            "6\n",
            "7\n",
            "8\n",
            "9\n",
            "10\n",
            "11\n",
            "12\n",
            "13\n",
            "14\n",
            "15\n",
            "16\n",
            "17\n",
            "18\n",
            "19\n",
            "20\n",
            "21\n",
            "22\n",
            "23\n",
            "24\n",
            "25\n",
            "26\n",
            "27\n",
            "28\n",
            "29\n",
            "30\n",
            "31\n",
            "32\n",
            "33\n",
            "34\n",
            "35\n",
            "36\n",
            "37\n",
            "38\n",
            "39\n",
            "40\n",
            "41\n",
            "42\n",
            "43\n",
            "44\n",
            "45\n",
            "46\n",
            "47\n",
            "48\n",
            "49\n",
            "50\n",
            "51\n",
            "52\n",
            "53\n",
            "54\n",
            "55\n",
            "56\n",
            "57\n",
            "58\n",
            "59\n",
            "60\n",
            "61\n",
            "62\n",
            "63\n",
            "64\n",
            "65\n",
            "66\n",
            "67\n",
            "68\n",
            "69\n",
            "70\n",
            "71\n",
            "72\n",
            "73\n",
            "74\n",
            "75\n",
            "76\n",
            "77\n",
            "78\n",
            "79\n",
            "80\n",
            "81\n",
            "82\n",
            "83\n",
            "84\n",
            "85\n",
            "86\n",
            "87\n",
            "88\n",
            "89\n",
            "90\n",
            "91\n",
            "92\n",
            "93\n",
            "94\n",
            "95\n",
            "96\n",
            "97\n",
            "98\n",
            "Sayilarin Toplami:  4851\n"
          ]
        }
      ]
    },
    {
      "cell_type": "code",
      "source": [
        "for ch in range(ord('A'), ord('Z')+1):\n",
        "  print(\"Harf Listesi: \", chr(ch))"
      ],
      "metadata": {
        "colab": {
          "base_uri": "https://localhost:8080/"
        },
        "id": "GV5Qu-_cpE-P",
        "outputId": "8138a6b8-4a63-4aa8-8d64-c0c2cbc1d388"
      },
      "execution_count": 25,
      "outputs": [
        {
          "output_type": "stream",
          "name": "stdout",
          "text": [
            "Harf Listesi:  A\n",
            "Harf Listesi:  B\n",
            "Harf Listesi:  C\n",
            "Harf Listesi:  D\n",
            "Harf Listesi:  E\n",
            "Harf Listesi:  F\n",
            "Harf Listesi:  G\n",
            "Harf Listesi:  H\n",
            "Harf Listesi:  I\n",
            "Harf Listesi:  J\n",
            "Harf Listesi:  K\n",
            "Harf Listesi:  L\n",
            "Harf Listesi:  M\n",
            "Harf Listesi:  N\n",
            "Harf Listesi:  O\n",
            "Harf Listesi:  P\n",
            "Harf Listesi:  Q\n",
            "Harf Listesi:  R\n",
            "Harf Listesi:  S\n",
            "Harf Listesi:  T\n",
            "Harf Listesi:  U\n",
            "Harf Listesi:  V\n",
            "Harf Listesi:  W\n",
            "Harf Listesi:  X\n",
            "Harf Listesi:  Y\n",
            "Harf Listesi:  Z\n"
          ]
        }
      ]
    },
    {
      "cell_type": "code",
      "source": [
        "\n",
        "while True:\n",
        "  sayi = float(input(\"Sayıyı Gir\"))\n",
        "  if sayi == 0:\n",
        "    print(\"0 Girdiniz, Başka bir rakam giriniz!!!\")\n",
        "    continue\n",
        "  elif sayi>0:\n",
        "    print(\"Sayı Pozitif\")\n",
        "  else:\n",
        "    print(\"Sayı Negatif\")\n",
        "  break"
      ],
      "metadata": {
        "colab": {
          "base_uri": "https://localhost:8080/"
        },
        "id": "g1754pXnvSMt",
        "outputId": "72c30b35-a084-4b21-b978-fe344aad34d0"
      },
      "execution_count": 28,
      "outputs": [
        {
          "output_type": "stream",
          "name": "stdout",
          "text": [
            "Sayıyı Gir8\n",
            "Sayı Pozitif\n"
          ]
        }
      ]
    },
    {
      "cell_type": "code",
      "source": [
        "n = int(input(\"Sayı Gir\"))\n",
        "\n",
        "toplam = 0\n",
        "\n",
        "for sayac in range(1, n+1):\n",
        "  toplam += sayac\n",
        "\n",
        "print(\"Sonuc: \", toplam)"
      ],
      "metadata": {
        "colab": {
          "base_uri": "https://localhost:8080/"
        },
        "id": "s77OW9puwVLB",
        "outputId": "74bf1675-9fe5-4e4d-c653-aae5a0c8d9d1"
      },
      "execution_count": 34,
      "outputs": [
        {
          "output_type": "stream",
          "name": "stdout",
          "text": [
            "Sayı Gir8\n",
            "Sonuc:  36\n"
          ]
        }
      ]
    },
    {
      "cell_type": "code",
      "source": [
        "\n",
        "x = 3\n",
        "c = 0\n",
        "\n",
        "while c<3:\n",
        "  print(\"Ekran Cıktısı: \", c, x)\n",
        "  x = x * x\n",
        "  c = c + 1\n",
        "\n",
        "print(\"Döngü Sonu: \", c, x)"
      ],
      "metadata": {
        "colab": {
          "base_uri": "https://localhost:8080/"
        },
        "id": "bC5-xGp1x5NV",
        "outputId": "7b19331c-c883-4a33-d16f-e3046248dcc7"
      },
      "execution_count": 47,
      "outputs": [
        {
          "output_type": "stream",
          "name": "stdout",
          "text": [
            "Ekran Cıktısı:  0 3\n",
            "Ekran Cıktısı:  1 9\n",
            "Ekran Cıktısı:  2 81\n",
            "Döngü Sonu:  3 6561\n"
          ]
        }
      ]
    },
    {
      "cell_type": "code",
      "source": [
        "# 7.5. Python Programlama Dili Üzerinde Sıralı, Koşul & Döngü Örnekleri\n",
        "\n",
        "n = int(input(\"Sayi Gir\"))\n",
        "\n",
        "if n % 2 == 0:\n",
        "  print(\"Girilen Sayı: \", n, \" çifttir\")\n",
        "else:\n",
        "  print(\"Girilen Sayı: \", n, \" tektir\")"
      ],
      "metadata": {
        "colab": {
          "base_uri": "https://localhost:8080/"
        },
        "id": "dIR7RB8Hz65Y",
        "outputId": "750174c8-a362-49e5-9a02-a115f6947a16"
      },
      "execution_count": 48,
      "outputs": [
        {
          "output_type": "stream",
          "name": "stdout",
          "text": [
            "Sayi Gir8\n",
            "Girilen Sayı:  8  çifttir\n"
          ]
        }
      ]
    },
    {
      "cell_type": "code",
      "source": [
        "n = float(input(\"Sayı Gir\"))\n",
        "\n",
        "if n < 0:\n",
        "  print(\"Girilen Sayı Negatif ve mutlak degeri\", n * (-1), \" 'dır.\")\n",
        "else:\n",
        "  print(\"Girilen Sayı \", n, \" pozitiftir\")"
      ],
      "metadata": {
        "colab": {
          "base_uri": "https://localhost:8080/"
        },
        "id": "NsMiIWqU0Qho",
        "outputId": "6b50a4c9-a085-4dab-93ea-812f72f83dbf"
      },
      "execution_count": 53,
      "outputs": [
        {
          "output_type": "stream",
          "name": "stdout",
          "text": [
            "Sayı Gir-8\n",
            "Girilen Sayı Negatif ve mutlak degeri 8.0  'dır.\n"
          ]
        }
      ]
    },
    {
      "cell_type": "code",
      "source": [
        "x = int(input(\"İlk sayıyı gir\"))\n",
        "y = int(input(\"ikinci sayıyı gir\"))\n",
        "\n",
        "if x % y == 0:\n",
        "  print(\"X sayısı Y Sayısına Tam Bölünür\")\n",
        "else:\n",
        "  print(\"X sayısı Y Sayısına Tam Bölünmez\")\n",
        ""
      ],
      "metadata": {
        "colab": {
          "base_uri": "https://localhost:8080/"
        },
        "id": "gB-JT9jF0kJn",
        "outputId": "b65e96a5-b418-4ddc-b755-6e10f2b5cfe4"
      },
      "execution_count": 55,
      "outputs": [
        {
          "output_type": "stream",
          "name": "stdout",
          "text": [
            "İlk sayıyı gir8\n",
            "ikinci sayıyı gir6\n",
            "X sayısı Y Sayısına Tam Bölünmez\n"
          ]
        }
      ]
    },
    {
      "cell_type": "code",
      "source": [
        "\n",
        "yil = int(input(\"Yıl Gir\"))\n",
        "if yil % 4 == 0:\n",
        "  print(\"Girilen Yıl: \", yil, \" artık yıldır\")\n",
        "else:\n",
        "  print(\"Girilen Yıl: \", yil, \" artık yıl değildir\")\n",
        "\n",
        ""
      ],
      "metadata": {
        "colab": {
          "base_uri": "https://localhost:8080/"
        },
        "id": "tW3rlDar1MeF",
        "outputId": "a43b72a7-4fc1-4bce-a148-8a0c095e10be"
      },
      "execution_count": 57,
      "outputs": [
        {
          "output_type": "stream",
          "name": "stdout",
          "text": [
            "Yıl Gir2020\n",
            "Girilen Yıl:  2020  artık yıldır\n"
          ]
        }
      ]
    },
    {
      "cell_type": "markdown",
      "source": [
        "ARTIK YIL KODU YAZILIM MÜLAKATLARINDA SORULAN BİR SORUDUR !!!!!\n"
      ],
      "metadata": {
        "id": "JQknnBlL1aOs"
      }
    },
    {
      "cell_type": "code",
      "source": [
        "\n",
        "sayi = 1\n",
        "\n",
        "while sayi<=200:\n",
        "  karekok = int(sayi ** 0.5)\n",
        "  if karekok ** 2 == sayi:\n",
        "    print(sayi)\n",
        "  sayi += 1 # sayi = sayi + 1\n",
        ""
      ],
      "metadata": {
        "colab": {
          "base_uri": "https://localhost:8080/"
        },
        "id": "PLbJcmyo1r5j",
        "outputId": "f50859eb-2a2c-4ed2-b846-cfd5910abf38"
      },
      "execution_count": 62,
      "outputs": [
        {
          "output_type": "stream",
          "name": "stdout",
          "text": [
            "1\n",
            "4\n",
            "9\n",
            "16\n",
            "25\n",
            "36\n",
            "49\n",
            "64\n",
            "81\n",
            "100\n",
            "121\n",
            "144\n",
            "169\n",
            "196\n"
          ]
        }
      ]
    }
  ]
}