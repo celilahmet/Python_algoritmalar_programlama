{
  "nbformat": 4,
  "nbformat_minor": 0,
  "metadata": {
    "colab": {
      "provenance": []
    },
    "kernelspec": {
      "name": "python3",
      "display_name": "Python 3"
    },
    "language_info": {
      "name": "python"
    }
  },
  "cells": [
    {
      "cell_type": "code",
      "execution_count": 1,
      "metadata": {
        "colab": {
          "base_uri": "https://localhost:8080/"
        },
        "id": "oRCewsjUR23R",
        "outputId": "445e0bf6-2043-4795-bf29-6b17d520d826"
      },
      "outputs": [
        {
          "output_type": "stream",
          "name": "stdout",
          "text": [
            "4\n",
            "3.14159\n",
            "Python - Veri Yapıları ve Algoritmalar\n",
            "True\n",
            "False\n"
          ]
        }
      ],
      "source": [
        "Ders_no = 4   # Integer (int) Veri Türü\n",
        "pi_sayisi = 3.14159  # Float (float) Veri Türü\n",
        "Dersin_ismi = \"Python - Veri Yapıları ve Algoritmalar\" # String (str) Veri Türü\n",
        "durum1 = True\n",
        "durum2 = False\n",
        "\n",
        "print(Ders_no)\n",
        "print(pi_sayisi)\n",
        "print(Dersin_ismi)\n",
        "print(durum1)\n",
        "print(durum2)"
      ]
    },
    {
      "cell_type": "code",
      "source": [
        "print(\"1. Değişkenin Değeri: \", Ders_no, \"- 1. Değişkenin Türü: \", type(Ders_no))\n",
        "print(\"2. Değişkenin Değeri: \", pi_sayisi, \"- 2. Değişkenin Türü: \", type(pi_sayisi))\n",
        "print(\"3. Değişkenin Değeri: \", Dersin_ismi, \"- 3. Değişkenin Türü: \", type(Dersin_ismi))\n",
        "print(\"4. Değişkenin Değeri: \", durum1, \"- 4. Değişkenin Türü: \", type(durum1))\n",
        "print(\"5. Değişkenin Değeri: \", durum2, \"- 5. Değişkenin Türü: \", type(durum2))"
      ],
      "metadata": {
        "colab": {
          "base_uri": "https://localhost:8080/"
        },
        "id": "ilQVbzymfYf8",
        "outputId": "7a074e40-873f-4c34-8854-51aeed899375"
      },
      "execution_count": 4,
      "outputs": [
        {
          "output_type": "stream",
          "name": "stdout",
          "text": [
            "1. Değişkenin Değeri:  4 - 1. Değişkenin Türü:  <class 'int'>\n",
            "2. Değişkenin Değeri:  3.14159 - 2. Değişkenin Türü:  <class 'float'>\n",
            "3. Değişkenin Değeri:  Python - Veri Yapıları ve Algoritmalar - 3. Değişkenin Türü:  <class 'str'>\n",
            "4. Değişkenin Değeri:  True - 4. Değişkenin Türü:  <class 'bool'>\n",
            "5. Değişkenin Değeri:  False - 5. Değişkenin Türü:  <class 'bool'>\n"
          ]
        }
      ]
    },
    {
      "cell_type": "code",
      "source": [
        "\n",
        "a = 7\n",
        "b = 3\n",
        "\n",
        "print(\"Toplama:\", a+b)\n",
        "print(\"Üs Alma: \", a**b)\n",
        "print(\"Mod Alma:\", a%b)\n",
        "print(\"a == b:\", a == b)\n",
        "print(\"a > b:\", a > b)"
      ],
      "metadata": {
        "colab": {
          "base_uri": "https://localhost:8080/"
        },
        "id": "l0kVwljYgWIh",
        "outputId": "dda706e1-e0e9-4f08-d077-6df82a3b434c"
      },
      "execution_count": 6,
      "outputs": [
        {
          "output_type": "stream",
          "name": "stdout",
          "text": [
            "Toplama: 10\n",
            "Üs Alma:  343\n",
            "Mod Alma: 1\n",
            "a == b: False\n",
            "a > b: True\n"
          ]
        }
      ]
    },
    {
      "cell_type": "code",
      "source": [
        "a = 5\n",
        "b = 3\n",
        "\n",
        "print(\"üs alma\",a**b)"
      ],
      "metadata": {
        "colab": {
          "base_uri": "https://localhost:8080/"
        },
        "id": "yRSFGykug2CG",
        "outputId": "4e3feaab-8a97-4221-9738-06e0770ba601"
      },
      "execution_count": 11,
      "outputs": [
        {
          "output_type": "stream",
          "name": "stdout",
          "text": [
            "üs alma 125\n"
          ]
        }
      ]
    },
    {
      "cell_type": "code",
      "source": [
        "a = True # True - Doğru - 1\n",
        "b = False # False - Yanlış - 0\n",
        "\n",
        "print(\"a ve_kapısı b:\", a and b)\n",
        "print(\"a veya_kapısı b:\", a or b)\n",
        "print(\"a degiskenin tersliyoruz:\", not a)"
      ],
      "metadata": {
        "colab": {
          "base_uri": "https://localhost:8080/"
        },
        "id": "r70WY3mihJK6",
        "outputId": "9b150ffa-f8bf-4fd8-8e6f-914d78682145"
      },
      "execution_count": 12,
      "outputs": [
        {
          "output_type": "stream",
          "name": "stdout",
          "text": [
            "a ve_kapısı b: False\n",
            "a veya_kapısı b: True\n",
            "a degiskenin tersliyoruz: False\n"
          ]
        }
      ]
    },
    {
      "cell_type": "code",
      "source": [
        "\n",
        "x = 7\n",
        "y = 4\n",
        "\n",
        "x += 3 # x = x + 3\n",
        "y -= 3 # y = y - 3\n",
        "\n",
        "print(x)\n",
        "print(y)"
      ],
      "metadata": {
        "colab": {
          "base_uri": "https://localhost:8080/"
        },
        "id": "CmahbAhiiHbI",
        "outputId": "17ec15f7-767f-4662-d751-ee06f438d99a"
      },
      "execution_count": 13,
      "outputs": [
        {
          "output_type": "stream",
          "name": "stdout",
          "text": [
            "10\n",
            "1\n"
          ]
        }
      ]
    },
    {
      "cell_type": "code",
      "source": [
        "a = 7\n",
        "b = 3\n",
        "\n",
        "print(a & b)\n",
        "print(a | b)\n",
        "print(a ^ b)"
      ],
      "metadata": {
        "colab": {
          "base_uri": "https://localhost:8080/"
        },
        "id": "Hvnqdze2nyZk",
        "outputId": "987189d5-0e31-4eb2-86fe-9cf4b140486c"
      },
      "execution_count": 14,
      "outputs": [
        {
          "output_type": "stream",
          "name": "stdout",
          "text": [
            "3\n",
            "7\n",
            "4\n"
          ]
        }
      ]
    },
    {
      "cell_type": "markdown",
      "source": [
        "(3210)2 7=0111 3=0011\n",
        "&=(0011) 2=(3)10"
      ],
      "metadata": {
        "id": "dxpMgHzPoSHb"
      }
    }
  ]
}