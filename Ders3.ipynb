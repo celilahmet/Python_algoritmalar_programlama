{
  "nbformat": 4,
  "nbformat_minor": 0,
  "metadata": {
    "colab": {
      "provenance": []
    },
    "kernelspec": {
      "name": "python3",
      "display_name": "Python 3"
    },
    "language_info": {
      "name": "python"
    }
  },
  "cells": [
    {
      "cell_type": "code",
      "execution_count": 1,
      "metadata": {
        "colab": {
          "base_uri": "https://localhost:8080/"
        },
        "id": "rijhZAiBYDVD",
        "outputId": "171b662d-7880-43d1-9581-0bb5390121ca"
      },
      "outputs": [
        {
          "output_type": "stream",
          "name": "stdout",
          "text": [
            "Merhaba python algoritma sınıfı\n"
          ]
        }
      ],
      "source": [
        "print(\"Merhaba python algoritma sınıfı\")"
      ]
    },
    {
      "cell_type": "code",
      "source": [
        "import sys #import python programlama dilinde kütüphane eklemeye yarayan bir kod blogudur.\n",
        "print(sys.version)"
      ],
      "metadata": {
        "colab": {
          "base_uri": "https://localhost:8080/"
        },
        "id": "b3Dlz7xRYNKY",
        "outputId": "b874cad5-8cd1-48d7-82dd-4d91cda58916"
      },
      "execution_count": 2,
      "outputs": [
        {
          "output_type": "stream",
          "name": "stdout",
          "text": [
            "3.11.11 (main, Dec  4 2024, 08:55:07) [GCC 11.4.0]\n"
          ]
        }
      ]
    },
    {
      "cell_type": "code",
      "source": [
        "from google.colab import drive\n",
        "drive.mount('/content/drive')"
      ],
      "metadata": {
        "colab": {
          "base_uri": "https://localhost:8080/"
        },
        "id": "4nWEibPLYQoE",
        "outputId": "a262fc1e-7793-46b2-e468-282687b1d175"
      },
      "execution_count": 3,
      "outputs": [
        {
          "output_type": "stream",
          "name": "stdout",
          "text": [
            "Mounted at /content/drive\n"
          ]
        }
      ]
    },
    {
      "cell_type": "code",
      "source": [
        "import os\n",
        "os.chdir('/content/drive/My Drive/ALGORITMALAR_MYO')"
      ],
      "metadata": {
        "id": "Kw0NTHUUYWus"
      },
      "execution_count": 4,
      "outputs": []
    },
    {
      "cell_type": "code",
      "source": [
        "\n",
        "# geçerli bir değişken tanımı\n",
        "\n",
        "degisken1 = 10\n",
        "\n",
        "Degisken2 = 20\n",
        "\n",
        "degisken_3 = 30\n",
        "\n",
        "_degisken_4 = 40\n",
        "\n",
        "print(degisken1)\n",
        "print(Degisken2)\n",
        "print(degisken_3)\n",
        "print(_degisken_4)\n",
        ""
      ],
      "metadata": {
        "colab": {
          "base_uri": "https://localhost:8080/"
        },
        "id": "6Ra9ba-_Ydst",
        "outputId": "8b9b0bf5-3f4d-4cd5-d40b-e88176350662"
      },
      "execution_count": 7,
      "outputs": [
        {
          "output_type": "stream",
          "name": "stdout",
          "text": [
            "10\n",
            "20\n",
            "30\n",
            "40\n"
          ]
        }
      ]
    },
    {
      "cell_type": "markdown",
      "source": [
        "sınavda yukarda verilmiş olan kodun aşağıda ekran görüntüsü nasıl çıkar tarzında bir soru çıkar değişken ve yazdırılanda arasında fark olmaması gerekiyor en ufak farklı durumda hata verecektir!!\n"
      ],
      "metadata": {
        "id": "oMY8nbKYeNVM"
      }
    },
    {
      "cell_type": "code",
      "source": [
        "\n",
        "#gecersiz değişken tanımlaması\n",
        "\n",
        "1degisken = 50\n",
        "\n",
        "degisken1-4 = 50\n"
      ],
      "metadata": {
        "colab": {
          "base_uri": "https://localhost:8080/",
          "height": 106
        },
        "id": "oeMuGKzHe5Zu",
        "outputId": "4452d271-6161-480a-faa3-c89673dcef6e"
      },
      "execution_count": 8,
      "outputs": [
        {
          "output_type": "error",
          "ename": "SyntaxError",
          "evalue": "invalid decimal literal (<ipython-input-8-d1a9204c0752>, line 3)",
          "traceback": [
            "\u001b[0;36m  File \u001b[0;32m\"<ipython-input-8-d1a9204c0752>\"\u001b[0;36m, line \u001b[0;32m3\u001b[0m\n\u001b[0;31m    1degisken = 50\u001b[0m\n\u001b[0m    ^\u001b[0m\n\u001b[0;31mSyntaxError\u001b[0m\u001b[0;31m:\u001b[0m invalid decimal literal\n"
          ]
        }
      ]
    },
    {
      "cell_type": "markdown",
      "source": [
        "kodlamalarda değişkenler sayısal olarak başlayamaz.\n",
        "değişken tarafında sayısal bir işlem olamaz.\n",
        "= işareti atama oparatörü olarak kullanılmaktadır\n",
        "değişken=işlem\n"
      ],
      "metadata": {
        "id": "VD_q16KHfGnd"
      }
    },
    {
      "cell_type": "code",
      "source": [
        "x = 5\n",
        "\n",
        "y = \"Merhaba Dünya\"\n",
        "\n",
        "print(x)\n",
        "\n",
        "print(y)"
      ],
      "metadata": {
        "colab": {
          "base_uri": "https://localhost:8080/"
        },
        "id": "BDmH__kxfw5A",
        "outputId": "4a7a7cdb-90d3-475a-c8b8-62591e08a757"
      },
      "execution_count": 9,
      "outputs": [
        {
          "output_type": "stream",
          "name": "stdout",
          "text": [
            "5\n",
            "Merhaba Dünya\n"
          ]
        }
      ]
    }
  ]
}