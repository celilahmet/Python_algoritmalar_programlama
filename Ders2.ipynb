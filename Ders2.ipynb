{
  "nbformat": 4,
  "nbformat_minor": 0,
  "metadata": {
    "colab": {
      "provenance": []
    },
    "kernelspec": {
      "name": "python3",
      "display_name": "Python 3"
    },
    "language_info": {
      "name": "python"
    }
  },
  "cells": [
    {
      "cell_type": "code",
      "execution_count": null,
      "metadata": {
        "colab": {
          "base_uri": "https://localhost:8080/"
        },
        "id": "6jRc-wWeJAI7",
        "outputId": "4b56f2d8-bafa-405f-8fd5-fbd3cca280e7"
      },
      "outputs": [
        {
          "output_type": "stream",
          "name": "stdout",
          "text": [
            "Merhaba python algoritma sınıfı\n"
          ]
        }
      ],
      "source": [
        "print(\"Merhaba python algoritma sınıfı\")"
      ]
    },
    {
      "cell_type": "markdown",
      "source": [
        "string bilgi türü -> metinsel ifadedir.\n",
        "integer bilgi türü -> sayısal ifadedir."
      ],
      "metadata": {
        "id": "jAXpd8P-LCKC"
      }
    },
    {
      "cell_type": "code",
      "source": [
        "import sys #import python programlama dilinde kütüphane eklemeye yarayan bir kod blogudur.\n",
        "print(sys.version)"
      ],
      "metadata": {
        "colab": {
          "base_uri": "https://localhost:8080/"
        },
        "id": "Rqlz2HsGMEC0",
        "outputId": "6a5f895b-bd3a-4e71-bd5a-af862cb531bb"
      },
      "execution_count": null,
      "outputs": [
        {
          "output_type": "stream",
          "name": "stdout",
          "text": [
            "3.11.11 (main, Dec  4 2024, 08:55:07) [GCC 11.4.0]\n"
          ]
        }
      ]
    },
    {
      "cell_type": "markdown",
      "source": [
        "import kütüphaneye eklemeye yarayan bir koddur sınavda tanım olarak çıkabilir!!!\n",
        "(SYS KÜTÜPHANE ANLAMINDA)\n"
      ],
      "metadata": {
        "id": "4Qk5l0rZNCGv"
      }
    },
    {
      "cell_type": "code",
      "source": [
        "from google.colab import drive\n",
        "drive.mount('/content/drive')"
      ],
      "metadata": {
        "colab": {
          "base_uri": "https://localhost:8080/"
        },
        "id": "To5juLk3MtK-",
        "outputId": "7a56fb23-fefa-461a-e452-75ea77e8966e"
      },
      "execution_count": null,
      "outputs": [
        {
          "output_type": "stream",
          "name": "stdout",
          "text": [
            "Mounted at /content/drive\n"
          ]
        }
      ]
    },
    {
      "cell_type": "markdown",
      "source": [
        "colabı drive aktarmak yani import etmek için kullandığımız komut\n"
      ],
      "metadata": {
        "id": "40hh-E6cPN_C"
      }
    },
    {
      "cell_type": "code",
      "source": [
        "import os\n",
        "os.chdir('/content/drive/My Drive/ALGORITMALAR_MYO')"
      ],
      "metadata": {
        "id": "bV7DX9LtPbn7"
      },
      "execution_count": null,
      "outputs": []
    },
    {
      "cell_type": "markdown",
      "source": [
        "işletim sistemi (Operating System, OS)"
      ],
      "metadata": {
        "id": "AERYMgn9PyzF"
      }
    }
  ]
}